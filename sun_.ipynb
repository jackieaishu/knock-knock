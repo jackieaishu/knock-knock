{
  "nbformat": 4,
  "nbformat_minor": 0,
  "metadata": {
    "colab": {
      "provenance": [],
      "authorship_tag": "ABX9TyPtwiKFNoHW4wv2/j5gQVHe",
      "include_colab_link": true
    },
    "kernelspec": {
      "name": "python3",
      "display_name": "Python 3"
    },
    "language_info": {
      "name": "python"
    }
  },
  "cells": [
    {
      "cell_type": "markdown",
      "metadata": {
        "id": "view-in-github",
        "colab_type": "text"
      },
      "source": [
        "<a href=\"https://colab.research.google.com/github/jackieaishu/knock-knock/blob/main/sun_.ipynb\" target=\"_parent\"><img src=\"https://colab.research.google.com/assets/colab-badge.svg\" alt=\"Open In Colab\"/></a>"
      ]
    },
    {
      "cell_type": "code",
      "source": [
        "import re\n",
        "db = open(\"/content/sample_data/AISHU.txt\", 'w')"
      ],
      "metadata": {
        "id": "Nck1BGIUMeKJ"
      },
      "execution_count": 17,
      "outputs": []
    },
    {
      "cell_type": "code",
      "execution_count": 15,
      "metadata": {
        "id": "K1qDzrggL2qi"
      },
      "outputs": [],
      "source": [
        "def sun():\n",
        "    athu = input(\"register or login \\n\")\n",
        "    if athu == \"register\" or athu == \"Register\":\n",
        "        Reigster()\n",
        "    elif athu == \"login\" or athu == \"Login\":\n",
        "        login()\n",
        "    else:\n",
        "        print(\"Enter the valid input\")\n",
        "        sun()\n",
        "       \n",
        "def Reigster():\n",
        "    user_name = input(\"Enter your user email id: \\n\")\n",
        "    user = \"[a-z 0-9 \\_\\.]+[@][a-z]+[\\.][a-z]{2,3}\"\n",
        "    if re.match(user, user_name):\n",
        "        print('you have entered a vaild user email id')\n",
        "        password = input(\"Enter your password: \\n\")\n",
        "        word = \"^(?=.[a-z])(?=.[A-Z])(?=.[0-9])(?=.[^A-Za-z0-9])(?=.{6,16})\"\n",
        "        if re.match(word, password) and 5 < len(p) < 16:\n",
        "            print(\"your are succefully signed up\")\n",
        "            db = open(\"/content/sample_data/AISHU.txt\", 'r')\n",
        "            u_name = []\n",
        "            p_word = []\n",
        "            for i in db:\n",
        "                a, b = i.split(\",\")\n",
        "                b = b.strip()\n",
        "                u_name.append(a)\n",
        "                p_word.append(b)\n",
        "            Data = dict(zip(u_name, p_word))\n",
        "            if user_name in u_name:\n",
        "                print(\n",
        "                    \"please enter new email id, this mail id already exist \\n please select login to access our database\")\n",
        "                sun()\n",
        "            else:\n",
        "                print(\"enter a valid password\", password)\n",
        "    else:\n",
        "        print(\"please enter a valid user email id\")\n",
        "        Reigster()\n",
        "\n",
        "    db = open(\"/content/sample_data/AISHU.txt\", 'a')\n",
        "    db.write(user_name + \", \" + password + \"\\n\")\n",
        "    print('your are successfully registered to our Database')\n",
        "\n",
        "\n",
        "def login():\n",
        "    user_name = input(\"Enter your user email id: \\n\")\n",
        "    password = input(\"Enter your password: \\n\")\n",
        "    db = open(\"/content/sample_data/AISHU.txt\", 'r')\n",
        "    u_name = []\n",
        "    p_word = []\n",
        "    for i in db:\n",
        "        a, b = i.split(\", \")\n",
        "        b = b.strip()\n",
        "        u_name.append(a)\n",
        "        p_word.append(b)\n",
        "    Data = dict(zip(u_name, p_word))\n",
        "    if user_name in u_name:\n",
        "        if password == Data[user_name]:\n",
        "            print(\"you have successfully logged in\")\n",
        "            print(\"welcome back\", user_name)\n",
        "        else:\n",
        "            print(\"you have entered a wrong password\")\n",
        "            print(\"Forgot password\")\n",
        "            print(\"please enter yes\")\n",
        "            yes = user_name[p_word]\n",
        "            if (forgot_password == yes or forgot_password == yes):\n",
        "                forgot_password = input()\n",
        "                print(yes)\n",
        "            else:\n",
        "                print(\"please enter the vaild input \\n\", forgot_password)\n",
        "    else:\n",
        "        print(\"user does not exit\")\n"
      ]
    },
    {
      "cell_type": "code",
      "source": [
        "sun()"
      ],
      "metadata": {
        "colab": {
          "base_uri": "https://localhost:8080/"
        },
        "id": "h5HS8EOgMaFn",
        "outputId": "10e899ea-025a-409f-f2f8-d31df8320176"
      },
      "execution_count": 16,
      "outputs": [
        {
          "output_type": "stream",
          "name": "stdout",
          "text": [
            "register or login \n",
            "register\n",
            "Enter your user email id: \n",
            "aish23@gmail.com\n",
            "you have entered a vaild user email id\n",
            "Enter your password: \n",
            "78tywas\n",
            "your are successfully registered to our Database\n"
          ]
        }
      ]
    }
  ]
}